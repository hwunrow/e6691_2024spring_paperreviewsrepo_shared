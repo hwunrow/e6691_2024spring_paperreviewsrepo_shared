{
 "cells": [
  {
   "cell_type": "markdown",
   "metadata": {},
   "source": [
    "# Exploration of Attention Mechanisms\n",
    "\n",
    "The goal of this notebook is to provide some dummy examples demonstrating the workings of different attention mechanisms in practice."
   ]
  },
  {
   "cell_type": "code",
   "execution_count": 1,
   "metadata": {},
   "outputs": [
    {
     "name": "stderr",
     "output_type": "stream",
     "text": [
      "/home/florsanders/.local/lib/python3.10/site-packages/scipy/__init__.py:146: UserWarning: A NumPy version >=1.16.5 and <1.23.0 is required for this version of SciPy (detected version 1.25.2\n",
      "  warnings.warn(f\"A NumPy version >={np_minversion} and <{np_maxversion}\"\n"
     ]
    }
   ],
   "source": [
    "# Import libraries\n",
    "import numpy as np\n",
    "import matplotlib.pyplot as plt\n",
    "from scipy.special import softmax\n",
    "\n",
    "# Seed rng\n",
    "seed = 365\n",
    "np.random.seed(seed)"
   ]
  },
  {
   "cell_type": "markdown",
   "metadata": {},
   "source": [
    "## Bahdanau Attention\n",
    "\n",
    "This is the attention mechanisms originally proposed in [Neural Machine Translation by Jointly Learning to Align and Translate](https://arxiv.org/abs/1409.0473).\n",
    "\n",
    "Starting from the hidden states:\n",
    "- Of the encoder: $h_j$, $j \\in \\{1, T_h\\}$\n",
    "- Of the decoder, right-shifted: $s_{i-1}$, $i \\in \\{2, T_s\\}$\n",
    "\n",
    "Energies are computed by means of a 2 layer dense network with a hidden $\\tanh$ activation function, and subsequently normalized using softmax.\n",
    "\n",
    "- $e_{ij} = v_a^{\\top} \\cdot \\tanh{ \\left( W_a \\cdot s_{i-1} + U_a \\cdot h_j \\right) }$\n",
    "\n",
    "- $\\alpha_{ij} = \\text{softmax}(e_{ij})$\n",
    "\n",
    "Where $v_a$, $W_a$ and $U_a$ are learned parameters.\n",
    "\n",
    "Finally, the normalized energies are used as weights to compute the decoder context vectors.\n",
    "\n",
    "- $c_i = \\sum_{j}{\\alpha_{ij} h_j}$"
   ]
  },
  {
   "cell_type": "code",
   "execution_count": 2,
   "metadata": {},
   "outputs": [],
   "source": [
    "# Parameters\n",
    "dim_h = 8 # Dimension of the encoder states h_j (2n)\n",
    "dim_s = 8 # Dimension of the decoder states s_i (n)\n",
    "T_h = 5 # Length of the encoder sequence\n",
    "T_s = 5 # Length of the decoder sequence\n",
    "\n",
    "dim_i = min(dim_h, dim_s) # Intermediate dimension of the weight matrices"
   ]
  },
  {
   "cell_type": "code",
   "execution_count": 3,
   "metadata": {},
   "outputs": [
    {
     "name": "stdout",
     "output_type": "stream",
     "text": [
      "Encoder states h:\n",
      " [[0. 0. 1. 1. 0. 1. 0. 0.]\n",
      " [1. 0. 0. 0. 0. 0. 1. 1.]\n",
      " [0. 1. 1. 1. 1. 0. 0. 1.]\n",
      " [0. 1. 1. 0. 1. 1. 0. 0.]\n",
      " [0. 0. 0. 1. 0. 1. 0. 0.]]\n",
      "Decoder states s:\n",
      " [[1. 1. 0. 1. 0. 1. 0. 1.]\n",
      " [0. 1. 0. 1. 1. 1. 0. 0.]\n",
      " [1. 1. 1. 0. 1. 0. 1. 1.]\n",
      " [1. 1. 0. 0. 0. 1. 1. 1.]\n",
      " [0. 1. 1. 0. 0. 1. 0. 1.]]\n"
     ]
    }
   ],
   "source": [
    "# Generate hidden states\n",
    "h = np.random.randint(0, 2, (T_h, dim_h)).astype(float)\n",
    "s = np.random.randint(0, 2, (T_s, dim_s)).astype(float)\n",
    "\n",
    "print(\"Encoder states h:\\n\", h)\n",
    "print(\"Decoder states s:\\n\", s)"
   ]
  },
  {
   "cell_type": "code",
   "execution_count": 4,
   "metadata": {},
   "outputs": [
    {
     "name": "stdout",
     "output_type": "stream",
     "text": [
      "W: \n",
      " [[0. 1. 0. 1. 1. 1. 0. 1.]\n",
      " [1. 1. 1. 0. 0. 0. 1. 0.]\n",
      " [1. 1. 1. 1. 0. 1. 0. 1.]\n",
      " [0. 1. 0. 0. 1. 0. 0. 1.]\n",
      " [1. 0. 1. 1. 1. 1. 0. 0.]\n",
      " [0. 1. 1. 0. 1. 0. 1. 0.]\n",
      " [1. 0. 0. 0. 1. 1. 1. 1.]\n",
      " [1. 0. 0. 0. 1. 1. 0. 1.]]\n",
      "U: \n",
      " [[1. 0. 0. 0. 0. 0. 1. 0.]\n",
      " [1. 1. 1. 0. 0. 0. 0. 0.]\n",
      " [0. 1. 0. 1. 0. 1. 1. 0.]\n",
      " [1. 0. 1. 1. 1. 1. 1. 0.]\n",
      " [1. 0. 0. 0. 1. 1. 1. 1.]\n",
      " [1. 0. 1. 0. 1. 0. 1. 0.]\n",
      " [0. 0. 1. 1. 1. 1. 0. 0.]\n",
      " [1. 0. 1. 0. 1. 1. 1. 1.]]\n",
      "v: \n",
      " [[0. 0. 0. 0. 0. 1. 1. 0.]]\n"
     ]
    }
   ],
   "source": [
    "# Generate weight matrices\n",
    "W = np.random.randint(0, 2, (dim_i, dim_s)).astype(float)\n",
    "U = np.random.randint(0, 2, (dim_i, dim_h)).astype(float)\n",
    "v = np.random.randint(0, 2, (1, dim_i)).astype(float)\n",
    "\n",
    "print(f\"W: \\n\", W)\n",
    "print(f\"U: \\n\", U)\n",
    "print(f\"v: \\n\", v)"
   ]
  },
  {
   "cell_type": "code",
   "execution_count": 5,
   "metadata": {},
   "outputs": [
    {
     "name": "stdout",
     "output_type": "stream",
     "text": [
      "Energies: \n",
      " [[1.75664891 0.96402758 1.95908233 1.95908233 0.96402758]\n",
      " [1.96401529 1.99010951 1.99504247 1.99504247 1.76150336]\n",
      " [1.99496396 1.96335688 1.9992385  1.9992385  1.96335688]\n",
      " [1.99990754 1.99931701 1.99998605 1.99998605 1.99931701]\n",
      " [1.99505309 1.9986586  1.99932764 1.99932764 1.96401529]]\n"
     ]
    }
   ],
   "source": [
    "# Initialize energies\n",
    "e = np.zeros((T_s, T_h))\n",
    "\n",
    "# For every output token\n",
    "for i in range(T_s):\n",
    "    # Right-shift s\n",
    "    if i == 0:\n",
    "        s_i = np.zeros(dim_s)\n",
    "    else:\n",
    "        s_i = s[i-1]\n",
    "\n",
    "    # For every input token\n",
    "    for j in range(T_h):\n",
    "        # Compute energy\n",
    "        W_dot_s = np.matmul(W, s_i)\n",
    "        U_dot_h = np.matmul(U, h[j])\n",
    "        e_ij = np.matmul(v, np.tanh(W_dot_s + U_dot_h))\n",
    "        e[i, j] = np.squeeze(e_ij)\n",
    "\n",
    "print(\"Energies: \\n\", e)"
   ]
  },
  {
   "cell_type": "code",
   "execution_count": 6,
   "metadata": {},
   "outputs": [
    {
     "name": "stdout",
     "output_type": "stream",
     "text": [
      "Weights: \n",
      " [[0.22967014 0.10396172 0.2812032  0.2812032  0.10396172]\n",
      " [0.20382617 0.20921485 0.21024945 0.21024945 0.16646009]\n",
      " [0.20216961 0.19587955 0.20303564 0.20303564 0.19587955]\n",
      " [0.20004096 0.19992286 0.20005666 0.20005666 0.19992286]\n",
      " [0.20073798 0.20146305 0.20159788 0.20159788 0.19460321]]\n"
     ]
    }
   ],
   "source": [
    "# Normalize energies to obtain weights\n",
    "alpha = softmax(e, axis=1)\n",
    "\n",
    "print(\"Weights: \\n\", alpha)"
   ]
  },
  {
   "cell_type": "code",
   "execution_count": 7,
   "metadata": {},
   "outputs": [
    {
     "data": {
      "image/png": "[encoded data removed]",
      "text/plain": [
       "<Figure size 640x480 with 2 Axes>"
      ]
     },
     "metadata": {},
     "output_type": "display_data"
    }
   ],
   "source": [
    "# visualize weights\n",
    "fig, ax = plt.subplots()\n",
    "im = ax.imshow(alpha, cmap=\"hot\", vmin=0, vmax=1, interpolation=\"none\", origin=\"lower\")\n",
    "fig.colorbar(im)\n",
    "ax.set_xlabel(\"j\")\n",
    "ax.set_ylabel(\"i\")\n",
    "ax.set_title(r\"$\\alpha_{ij}$\")\n",
    "plt.show()"
   ]
  },
  {
   "cell_type": "markdown",
   "metadata": {},
   "source": [
    "With random vectors, the distribution of attention is approximately uniform."
   ]
  },
  {
   "cell_type": "code",
   "execution_count": 8,
   "metadata": {},
   "outputs": [
    {
     "name": "stdout",
     "output_type": "stream",
     "text": [
      "Context vectors: \n",
      " [[0.10396172 0.56240641 0.79207655 0.61483507 0.56240641 0.61483507\n",
      "  0.10396172 0.38516493]\n",
      " [0.20921485 0.4204989  0.62432506 0.5805357  0.4204989  0.5805357\n",
      "  0.20921485 0.4194643 ]\n",
      " [0.19587955 0.40607129 0.6082409  0.60108481 0.40607129 0.60108481\n",
      "  0.19587955 0.39891519]\n",
      " [0.19992286 0.40011332 0.60015428 0.60002048 0.40011332 0.60002048\n",
      "  0.19992286 0.39997952]\n",
      " [0.20146305 0.40319576 0.60393374 0.59693907 0.40319576 0.59693907\n",
      "  0.20146305 0.40306093]]\n"
     ]
    }
   ],
   "source": [
    "# Compute context vectors\n",
    "c = np.matmul(alpha, h)\n",
    "print(\"Context vectors: \\n\", c)"
   ]
  },
  {
   "cell_type": "code",
   "execution_count": null,
   "metadata": {},
   "outputs": [],
   "source": []
  },
  {
   "cell_type": "markdown",
   "metadata": {},
   "source": [
    "## Scaled Dot-Product Attention\n",
    "\n",
    "The scaled dot-product attention, as introduced in [Attention Is All You Need](https://arxiv.org/abs/1706.03762) is another way to compute the attention, based on the Query-Key-Value paradigm.\n",
    "\n",
    "The Query and Key are used to compute a score, which aftern normalization is used to scale the values.\n",
    "\n",
    "In this case, the full equation is:  \n",
    "$\\text{attention} = \\text{softmax}{\\left( \\frac{Q \\cdot K^\\top}{\\sqrt{d_k}} \\right)} V$"
   ]
  },
  {
   "cell_type": "code",
   "execution_count": 9,
   "metadata": {},
   "outputs": [
    {
     "name": "stdout",
     "output_type": "stream",
     "text": [
      "(5, 8)\n",
      "(5, 8)\n"
     ]
    }
   ],
   "source": [
    "# Initialize Q, K & V as interpreted from Badhanau attention\n",
    "Q = s\n",
    "K = h\n",
    "V = h\n",
    "\n",
    "d_k = dim_i\n",
    "\n",
    "print(s.shape)\n",
    "print(h.shape)"
   ]
  },
  {
   "cell_type": "code",
   "execution_count": 10,
   "metadata": {},
   "outputs": [
    {
     "name": "stdout",
     "output_type": "stream",
     "text": [
      "Scores: \n",
      " [[2. 2. 3. 2. 2.]\n",
      " [2. 0. 3. 3. 2.]\n",
      " [1. 3. 4. 3. 0.]\n",
      " [1. 3. 2. 2. 1.]\n",
      " [2. 1. 3. 3. 1.]]\n"
     ]
    }
   ],
   "source": [
    "# Compute scores\n",
    "e = np.matmul(Q, np.transpose(K))\n",
    "\n",
    "print(\"Scores: \\n\", e)"
   ]
  },
  {
   "cell_type": "code",
   "execution_count": 11,
   "metadata": {},
   "outputs": [
    {
     "name": "stdout",
     "output_type": "stream",
     "text": [
      "Weights: \n",
      " [[0.14884758 0.14884758 0.40460968 0.14884758 0.14884758]\n",
      " [0.13206727 0.01787336 0.35899605 0.35899605 0.13206727]\n",
      " [0.02760027 0.20393995 0.55436626 0.20393995 0.01015357]\n",
      " [0.06745081 0.49839779 0.1833503  0.1833503  0.06745081]\n",
      " [0.13942485 0.05129154 0.37899604 0.37899604 0.05129154]]\n"
     ]
    }
   ],
   "source": [
    "# Normalize scores to obtain weights\n",
    "alpha = softmax(e, axis=1)\n",
    "\n",
    "print(\"Weights: \\n\", alpha)"
   ]
  },
  {
   "cell_type": "code",
   "execution_count": 12,
   "metadata": {},
   "outputs": [
    {
     "data": {
      "image/png": "[encoded data removed]",
      "text/plain": [
       "<Figure size 640x480 with 2 Axes>"
      ]
     },
     "metadata": {},
     "output_type": "display_data"
    }
   ],
   "source": [
    "# visualize weights\n",
    "fig, ax = plt.subplots()\n",
    "im = ax.imshow(alpha, cmap=\"hot\", vmin=0, vmax=1, interpolation=\"none\", origin=\"lower\")\n",
    "fig.colorbar(im)\n",
    "ax.set_xlabel(\"j\")\n",
    "ax.set_ylabel(\"i\")\n",
    "ax.set_title(r\"$\\alpha_{ij}$\")\n",
    "plt.show()"
   ]
  },
  {
   "cell_type": "markdown",
   "metadata": {},
   "source": [
    "The effect of this multiplicative attention mechanism is signficantly more pronounced for the case of random vectors."
   ]
  },
  {
   "cell_type": "code",
   "execution_count": 13,
   "metadata": {},
   "outputs": [
    {
     "name": "stdout",
     "output_type": "stream",
     "text": [
      "Context vectors: \n",
      " [[0.14884758 0.55345726 0.70230484 0.70230484 0.55345726 0.44654274\n",
      "  0.14884758 0.55345726]\n",
      " [0.01787336 0.7179921  0.85005937 0.62313059 0.7179921  0.62313059\n",
      "  0.01787336 0.37686941]\n",
      " [0.20393995 0.75830621 0.78590648 0.5921201  0.75830621 0.24169379\n",
      "  0.20393995 0.75830621]\n",
      " [0.49839779 0.3667006  0.43415141 0.31825191 0.3667006  0.31825191\n",
      "  0.49839779 0.68174809]\n",
      " [0.05129154 0.75799208 0.89741693 0.56971243 0.75799208 0.56971243\n",
      "  0.05129154 0.43028757]]\n"
     ]
    }
   ],
   "source": [
    "# Compute context vectors\n",
    "c = np.matmul(alpha, h)\n",
    "print(\"Context vectors: \\n\", c)"
   ]
  },
  {
   "cell_type": "code",
   "execution_count": null,
   "metadata": {},
   "outputs": [],
   "source": []
  }
 ],
 "metadata": {
  "kernelspec": {
   "display_name": "Python 3",
   "language": "python",
   "name": "python3"
  },
  "language_info": {
   "codemirror_mode": {
    "name": "ipython",
    "version": 3
   },
   "file_extension": ".py",
   "mimetype": "text/x-python",
   "name": "python",
   "nbconvert_exporter": "python",
   "pygments_lexer": "ipython3",
   "version": "3.10.12"
  },
  "orig_nbformat": 4
 },
 "nbformat": 4,
 "nbformat_minor": 2
}
